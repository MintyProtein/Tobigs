{
  "cells": [
    {
      "cell_type": "markdown",
      "metadata": {
        "id": "_PTZ7GaPe4PF"
      },
      "source": [
        "# 19기 KNN 정규세션 과제"
      ]
    },
    {
      "cell_type": "markdown",
      "metadata": {
        "id": "3OFNeO0Ie4PH"
      },
      "source": [
        "## KNN 구현해보기\n",
        "### 1. Preprocssing / EDA\n",
        "지금까지 배운 내용을 토대로 해당 데이터에 대해 자유롭게 전처리와 EDA를 진행해주세요.\n",
        "### 2. KNN 구현 & 파라미터 튜닝\n",
        "수업 내용 및 실습 자료를 참고하여 KNN을 구현하고 파라미터 튜닝을 하며 결과를 비교해주세요.\n",
        "### 3. Evaluation\n",
        "결과에 대한 평가를 진행하고, 나름의 해석을 달아주세요."
      ]
    },
    {
      "cell_type": "markdown",
      "metadata": {
        "id": "k_IkS8Ybe4PI"
      },
      "source": [
        "**데이터:** [blackfriday | Kaggle](https://www.kaggle.com/llopesolivei/blackfriday)"
      ]
    },
    {
      "cell_type": "markdown",
      "metadata": {
        "id": "ZvUdeo2he4PI"
      },
      "source": [
        "---"
      ]
    },
    {
      "cell_type": "markdown",
      "metadata": {
        "id": "lTlQgiSie4PI"
      },
      "source": [
        "## 0. 데이터 불러오기"
      ]
    },
    {
      "cell_type": "code",
      "execution_count": 50,
      "metadata": {},
      "outputs": [],
      "source": [
        "import numpy as np\n",
        "import pandas as pd\n",
        "import warnings\n",
        "warnings.filterwarnings(action='ignore')"
      ]
    },
    {
      "cell_type": "code",
      "execution_count": 2,
      "metadata": {
        "id": "eNTRK8Ete4PJ",
        "outputId": "de247747-4645-49a6-c5d2-38cc1a381d42"
      },
      "outputs": [
        {
          "data": {
            "text/html": [
              "<div>\n",
              "<style scoped>\n",
              "    .dataframe tbody tr th:only-of-type {\n",
              "        vertical-align: middle;\n",
              "    }\n",
              "\n",
              "    .dataframe tbody tr th {\n",
              "        vertical-align: top;\n",
              "    }\n",
              "\n",
              "    .dataframe thead th {\n",
              "        text-align: right;\n",
              "    }\n",
              "</style>\n",
              "<table border=\"1\" class=\"dataframe\">\n",
              "  <thead>\n",
              "    <tr style=\"text-align: right;\">\n",
              "      <th></th>\n",
              "      <th>User_ID</th>\n",
              "      <th>Product_ID</th>\n",
              "      <th>Gender</th>\n",
              "      <th>Age</th>\n",
              "      <th>Occupation</th>\n",
              "      <th>City_Category</th>\n",
              "      <th>Stay_In_Current_City_Years</th>\n",
              "      <th>Marital_Status</th>\n",
              "      <th>Product_Category_1</th>\n",
              "      <th>Product_Category_2</th>\n",
              "      <th>Product_Category_3</th>\n",
              "      <th>Purchase</th>\n",
              "    </tr>\n",
              "  </thead>\n",
              "  <tbody>\n",
              "    <tr>\n",
              "      <th>0</th>\n",
              "      <td>1001088</td>\n",
              "      <td>P00046042</td>\n",
              "      <td>F</td>\n",
              "      <td>0-17</td>\n",
              "      <td>10</td>\n",
              "      <td>A</td>\n",
              "      <td>3</td>\n",
              "      <td>0</td>\n",
              "      <td>5</td>\n",
              "      <td>17.0</td>\n",
              "      <td>NaN</td>\n",
              "      <td>2010</td>\n",
              "    </tr>\n",
              "    <tr>\n",
              "      <th>1</th>\n",
              "      <td>1004493</td>\n",
              "      <td>P00347742</td>\n",
              "      <td>F</td>\n",
              "      <td>0-17</td>\n",
              "      <td>10</td>\n",
              "      <td>A</td>\n",
              "      <td>1</td>\n",
              "      <td>0</td>\n",
              "      <td>7</td>\n",
              "      <td>NaN</td>\n",
              "      <td>NaN</td>\n",
              "      <td>4483</td>\n",
              "    </tr>\n",
              "    <tr>\n",
              "      <th>2</th>\n",
              "      <td>1005302</td>\n",
              "      <td>P00048942</td>\n",
              "      <td>F</td>\n",
              "      <td>0-17</td>\n",
              "      <td>10</td>\n",
              "      <td>A</td>\n",
              "      <td>1</td>\n",
              "      <td>0</td>\n",
              "      <td>1</td>\n",
              "      <td>4.0</td>\n",
              "      <td>NaN</td>\n",
              "      <td>7696</td>\n",
              "    </tr>\n",
              "    <tr>\n",
              "      <th>3</th>\n",
              "      <td>1001348</td>\n",
              "      <td>P00145242</td>\n",
              "      <td>F</td>\n",
              "      <td>0-17</td>\n",
              "      <td>10</td>\n",
              "      <td>A</td>\n",
              "      <td>3</td>\n",
              "      <td>0</td>\n",
              "      <td>2</td>\n",
              "      <td>4.0</td>\n",
              "      <td>NaN</td>\n",
              "      <td>16429</td>\n",
              "    </tr>\n",
              "    <tr>\n",
              "      <th>4</th>\n",
              "      <td>1001348</td>\n",
              "      <td>P00106742</td>\n",
              "      <td>F</td>\n",
              "      <td>0-17</td>\n",
              "      <td>10</td>\n",
              "      <td>A</td>\n",
              "      <td>3</td>\n",
              "      <td>0</td>\n",
              "      <td>3</td>\n",
              "      <td>5.0</td>\n",
              "      <td>NaN</td>\n",
              "      <td>5780</td>\n",
              "    </tr>\n",
              "  </tbody>\n",
              "</table>\n",
              "</div>"
            ],
            "text/plain": [
              "   User_ID Product_ID Gender   Age  Occupation City_Category  \\\n",
              "0  1001088  P00046042      F  0-17          10             A   \n",
              "1  1004493  P00347742      F  0-17          10             A   \n",
              "2  1005302  P00048942      F  0-17          10             A   \n",
              "3  1001348  P00145242      F  0-17          10             A   \n",
              "4  1001348  P00106742      F  0-17          10             A   \n",
              "\n",
              "  Stay_In_Current_City_Years  Marital_Status  Product_Category_1  \\\n",
              "0                          3               0                   5   \n",
              "1                          1               0                   7   \n",
              "2                          1               0                   1   \n",
              "3                          3               0                   2   \n",
              "4                          3               0                   3   \n",
              "\n",
              "   Product_Category_2  Product_Category_3  Purchase  \n",
              "0                17.0                 NaN      2010  \n",
              "1                 NaN                 NaN      4483  \n",
              "2                 4.0                 NaN      7696  \n",
              "3                 4.0                 NaN     16429  \n",
              "4                 5.0                 NaN      5780  "
            ]
          },
          "execution_count": 2,
          "metadata": {},
          "output_type": "execute_result"
        }
      ],
      "source": [
        "df = pd.read_csv(\"blackfriday.csv\", index_col = 0)\n",
        "df.head()"
      ]
    },
    {
      "attachments": {},
      "cell_type": "markdown",
      "metadata": {},
      "source": [
        "## EDA"
      ]
    },
    {
      "cell_type": "code",
      "execution_count": 3,
      "metadata": {},
      "outputs": [
        {
          "name": "stdout",
          "output_type": "stream",
          "text": [
            "<class 'pandas.core.frame.DataFrame'>\n",
            "Int64Index: 4998 entries, 0 to 4997\n",
            "Data columns (total 12 columns):\n",
            " #   Column                      Non-Null Count  Dtype  \n",
            "---  ------                      --------------  -----  \n",
            " 0   User_ID                     4998 non-null   int64  \n",
            " 1   Product_ID                  4998 non-null   object \n",
            " 2   Gender                      4998 non-null   object \n",
            " 3   Age                         4998 non-null   object \n",
            " 4   Occupation                  4998 non-null   int64  \n",
            " 5   City_Category               4998 non-null   object \n",
            " 6   Stay_In_Current_City_Years  4998 non-null   object \n",
            " 7   Marital_Status              4998 non-null   int64  \n",
            " 8   Product_Category_1          4998 non-null   int64  \n",
            " 9   Product_Category_2          3465 non-null   float64\n",
            " 10  Product_Category_3          1544 non-null   float64\n",
            " 11  Purchase                    4998 non-null   int64  \n",
            "dtypes: float64(2), int64(5), object(5)\n",
            "memory usage: 507.6+ KB\n"
          ]
        }
      ],
      "source": [
        "df.info()"
      ]
    },
    {
      "cell_type": "code",
      "execution_count": 4,
      "metadata": {},
      "outputs": [
        {
          "data": {
            "text/plain": [
              "<seaborn.axisgrid.FacetGrid at 0x1b5a9148190>"
            ]
          },
          "execution_count": 4,
          "metadata": {},
          "output_type": "execute_result"
        },
        {
          "data": {
            "image/png": "[encoded data removed]",
            "text/plain": [
              "<Figure size 360x360 with 1 Axes>"
            ]
          },
          "metadata": {
            "needs_background": "light"
          },
          "output_type": "display_data"
        }
      ],
      "source": [
        "import matplotlib.pyplot as plt\n",
        "import seaborn as sns\n",
        "\n",
        "sns.displot(df['Purchase'])"
      ]
    },
    {
      "cell_type": "code",
      "execution_count": 5,
      "metadata": {},
      "outputs": [
        {
          "data": {
            "text/plain": [
              "<AxesSubplot:xlabel='Product_Category_3', ylabel='Count'>"
            ]
          },
          "execution_count": 5,
          "metadata": {},
          "output_type": "execute_result"
        },
        {
          "data": {
            "image/png": "[encoded data removed]",
            "text/plain": [
              "<Figure size 864x360 with 9 Axes>"
            ]
          },
          "metadata": {
            "needs_background": "light"
          },
          "output_type": "display_data"
        }
      ],
      "source": [
        "fig, axes = plt.subplots(3,3)\n",
        "fig.tight_layout()\n",
        "fig.set_size_inches(12,5)\n",
        "sns.countplot(df['City_Category'], ax=axes[0,0])\n",
        "sns.countplot(df['Gender'], ax=axes[0,1])\n",
        "sns.countplot(df['Stay_In_Current_City_Years'], ax=axes[0,2])\n",
        "sns.countplot(df['Age'], ax=axes[1,0])\n",
        "sns.countplot(df['Marital_Status'], ax=axes[1,1])\n",
        "sns.countplot(df['Occupation'], ax=axes[1,2])\n",
        "sns.histplot(df['Product_Category_1'], ax=axes[2,0])\n",
        "sns.histplot(df['Product_Category_2'], ax=axes[2,1])\n",
        "sns.histplot(df['Product_Category_3'], ax=axes[2,2])"
      ]
    },
    {
      "attachments": {},
      "cell_type": "markdown",
      "metadata": {},
      "source": [
        "## Preprocess"
      ]
    },
    {
      "cell_type": "code",
      "execution_count": 144,
      "metadata": {},
      "outputs": [],
      "source": [
        "target = df['Purchase'].copy().values\n",
        "features = df.drop(['User_ID', 'Product_ID', 'Purchase', 'Product_Category_3'], axis=1)\n",
        "features = features.fillna(method='ffill')"
      ]
    },
    {
      "cell_type": "code",
      "execution_count": 145,
      "metadata": {},
      "outputs": [],
      "source": [
        "from sklearn.preprocessing import LabelEncoder\n",
        "\n",
        "le_gender = LabelEncoder()\n",
        "le_age = LabelEncoder()\n",
        "le_city = LabelEncoder()\n",
        "le_stay = LabelEncoder()\n",
        "\n",
        "features['Gender'] = le_gender.fit_transform(features['Gender'])\n",
        "features['Age'] = le_age.fit_transform(features['Age'])\n",
        "features['City_Category'] = le_city.fit_transform(features['City_Category'])\n",
        "features['Stay_In_Current_City_Years'] = le_stay.fit_transform(features['Stay_In_Current_City_Years'])"
      ]
    },
    {
      "cell_type": "code",
      "execution_count": 146,
      "metadata": {},
      "outputs": [
        {
          "data": {
            "text/plain": [
              "(4998, 8)"
            ]
          },
          "execution_count": 146,
          "metadata": {},
          "output_type": "execute_result"
        }
      ],
      "source": [
        "features = features.values.astype(float)\n",
        "features.shape"
      ]
    },
    {
      "cell_type": "code",
      "execution_count": 147,
      "metadata": {},
      "outputs": [],
      "source": [
        "from sklearn.preprocessing import StandardScaler\n",
        "\n",
        "sc =  StandardScaler()\n",
        "data = sc.fit_transform(features)"
      ]
    },
    {
      "cell_type": "code",
      "execution_count": 148,
      "metadata": {},
      "outputs": [
        {
          "name": "stdout",
          "output_type": "stream",
          "text": [
            "(3998, 8)\n",
            "(1000, 8)\n",
            "(3998,)\n",
            "(1000,)\n"
          ]
        }
      ],
      "source": [
        "from sklearn.model_selection import train_test_split\n",
        "\n",
        "train_X, valid_X, train_y, valid_y = train_test_split(data, target, test_size=0.2)\n",
        "\n",
        "print(train_X.shape)\n",
        "print(valid_X.shape)\n",
        "print(train_y.shape)\n",
        "print(valid_y.shape)"
      ]
    },
    {
      "attachments": {},
      "cell_type": "markdown",
      "metadata": {},
      "source": [
        "## Train"
      ]
    },
    {
      "cell_type": "code",
      "execution_count": 149,
      "metadata": {},
      "outputs": [],
      "source": [
        "from sklearn.neighbors import KNeighborsRegressor\n",
        "from sklearn.metrics import mean_absolute_error\n",
        "\n",
        "mae_default = []\n",
        "mae_mahalanobis = []\n",
        "\n",
        "for i in range(1,16):\n",
        "    knn_mahalanobis = KNeighborsRegressor(n_neighbors = i, algorithm='brute', metric='mahalanobis', metric_params={'V':np.cov(train_X)})\n",
        "    knn_default = KNeighborsRegressor(n_neighbors = i)\n",
        "    \n",
        "    knn_mahalanobis.fit(train_X, train_y)\n",
        "    knn_default.fit(train_X, train_y)\n",
        "    \n",
        "    mahala_pred = knn_mahalanobis.predict(valid_X)\n",
        "    mae_mahalanobis.append(mean_absolute_error(valid_y, mahala_pred))\n",
        "    default_pred = knn_default.predict(valid_X)\n",
        "    mae_default.append(mean_absolute_error(valid_y, default_pred))\n"
      ]
    },
    {
      "cell_type": "code",
      "execution_count": 150,
      "metadata": {},
      "outputs": [
        {
          "data": {
            "text/plain": [
              "<matplotlib.legend.Legend at 0x1b5af03e490>"
            ]
          },
          "execution_count": 150,
          "metadata": {},
          "output_type": "execute_result"
        },
        {
          "data": {
            "image/png": "[encoded data removed]",
            "text/plain": [
              "<Figure size 432x288 with 1 Axes>"
            ]
          },
          "metadata": {
            "needs_background": "light"
          },
          "output_type": "display_data"
        }
      ],
      "source": [
        "plt.plot(mae_mahalanobis)\n",
        "plt.plot(mae_default)\n",
        "plt.legend(['Mahalanobis', 'Default'])"
      ]
    },
    {
      "cell_type": "code",
      "execution_count": 151,
      "metadata": {},
      "outputs": [
        {
          "name": "stdout",
          "output_type": "stream",
          "text": [
            "3531.6371666666664\n",
            "3534.122\n"
          ]
        }
      ],
      "source": [
        "print(min(mae_default))\n",
        "print(min(mae_mahalanobis))"
      ]
    },
    {
      "cell_type": "code",
      "execution_count": null,
      "metadata": {},
      "outputs": [],
      "source": []
    }
  ],
  "metadata": {
    "colab": {
      "provenance": []
    },
    "kernelspec": {
      "display_name": "base",
      "language": "python",
      "name": "python3"
    },
    "language_info": {
      "codemirror_mode": {
        "name": "ipython",
        "version": 3
      },
      "file_extension": ".py",
      "mimetype": "text/x-python",
      "name": "python",
      "nbconvert_exporter": "python",
      "pygments_lexer": "ipython3",
      "version": "3.8.8"
    },
    "vscode": {
      "interpreter": {
        "hash": "2043299c89c8cd0b4d1a6f5cf4529bd58e6a4e0fe3181a25e0d328c821cdc5c5"
      }
    }
  },
  "nbformat": 4,
  "nbformat_minor": 0
}
