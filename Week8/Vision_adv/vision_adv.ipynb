{
 "cells": [
  {
   "cell_type": "code",
   "execution_count": 1,
   "metadata": {
    "execution": {
     "iopub.execute_input": "2023-03-14T02:34:37.458649Z",
     "iopub.status.busy": "2023-03-14T02:34:37.458392Z",
     "iopub.status.idle": "2023-03-14T02:34:40.047690Z",
     "shell.execute_reply": "2023-03-14T02:34:40.046908Z",
     "shell.execute_reply.started": "2023-03-14T02:34:37.458627Z"
    }
   },
   "outputs": [
    {
     "name": "stdout",
     "output_type": "stream",
     "text": [
      "Requirement already satisfied: wandb in /usr/local/lib/python3.9/dist-packages (0.13.4)\n",
      "Requirement already satisfied: setuptools in /usr/local/lib/python3.9/dist-packages (from wandb) (66.1.1)\n",
      "Requirement already satisfied: shortuuid>=0.5.0 in /usr/local/lib/python3.9/dist-packages (from wandb) (1.0.11)\n",
      "Requirement already satisfied: requests<3,>=2.0.0 in /usr/local/lib/python3.9/dist-packages (from wandb) (2.28.2)\n",
      "Requirement already satisfied: sentry-sdk>=1.0.0 in /usr/local/lib/python3.9/dist-packages (from wandb) (1.14.0)\n",
      "Requirement already satisfied: promise<3,>=2.0 in /usr/local/lib/python3.9/dist-packages (from wandb) (2.3)\n",
      "Requirement already satisfied: six>=1.13.0 in /usr/lib/python3/dist-packages (from wandb) (1.14.0)\n",
      "Requirement already satisfied: pathtools in /usr/local/lib/python3.9/dist-packages (from wandb) (0.1.2)\n",
      "Requirement already satisfied: GitPython>=1.0.0 in /usr/local/lib/python3.9/dist-packages (from wandb) (3.1.30)\n",
      "Requirement already satisfied: PyYAML in /usr/local/lib/python3.9/dist-packages (from wandb) (5.4.1)\n",
      "Requirement already satisfied: docker-pycreds>=0.4.0 in /usr/local/lib/python3.9/dist-packages (from wandb) (0.4.0)\n",
      "Requirement already satisfied: setproctitle in /usr/local/lib/python3.9/dist-packages (from wandb) (1.3.2)\n",
      "Requirement already satisfied: protobuf!=4.0.*,!=4.21.0,<5,>=3.12.0 in /usr/local/lib/python3.9/dist-packages (from wandb) (3.19.6)\n",
      "Requirement already satisfied: psutil>=5.0.0 in /usr/local/lib/python3.9/dist-packages (from wandb) (5.9.4)\n",
      "Requirement already satisfied: Click!=8.0.0,>=7.0 in /usr/local/lib/python3.9/dist-packages (from wandb) (8.1.3)\n",
      "Requirement already satisfied: gitdb<5,>=4.0.1 in /usr/local/lib/python3.9/dist-packages (from GitPython>=1.0.0->wandb) (4.0.10)\n",
      "Requirement already satisfied: certifi>=2017.4.17 in /usr/lib/python3/dist-packages (from requests<3,>=2.0.0->wandb) (2019.11.28)\n",
      "Requirement already satisfied: charset-normalizer<4,>=2 in /usr/local/lib/python3.9/dist-packages (from requests<3,>=2.0.0->wandb) (2.1.1)\n",
      "Requirement already satisfied: urllib3<1.27,>=1.21.1 in /usr/local/lib/python3.9/dist-packages (from requests<3,>=2.0.0->wandb) (1.26.14)\n",
      "Requirement already satisfied: idna<4,>=2.5 in /usr/lib/python3/dist-packages (from requests<3,>=2.0.0->wandb) (2.8)\n",
      "Requirement already satisfied: smmap<6,>=3.0.1 in /usr/local/lib/python3.9/dist-packages (from gitdb<5,>=4.0.1->GitPython>=1.0.0->wandb) (5.0.0)\n",
      "\u001b[33mWARNING: Running pip as the 'root' user can result in broken permissions and conflicting behaviour with the system package manager. It is recommended to use a virtual environment instead: https://pip.pypa.io/warnings/venv\u001b[0m\u001b[33m\n",
      "\u001b[0m"
     ]
    }
   ],
   "source": [
    "!pip install wandb"
   ]
  },
  {
   "cell_type": "code",
   "execution_count": 2,
   "metadata": {
    "execution": {
     "iopub.execute_input": "2023-03-14T02:34:40.049783Z",
     "iopub.status.busy": "2023-03-14T02:34:40.049281Z",
     "iopub.status.idle": "2023-03-14T02:34:42.649512Z",
     "shell.execute_reply": "2023-03-14T02:34:42.648673Z",
     "shell.execute_reply.started": "2023-03-14T02:34:40.049759Z"
    }
   },
   "outputs": [
    {
     "name": "stdout",
     "output_type": "stream",
     "text": [
      "\u001b[34m\u001b[1mwandb\u001b[0m: Appending key for api.wandb.ai to your netrc file: /root/.netrc\n"
     ]
    }
   ],
   "source": [
    "!wandb login "
   ]
  },
  {
   "cell_type": "code",
   "execution_count": 3,
   "metadata": {
    "execution": {
     "iopub.execute_input": "2023-03-14T02:34:42.650818Z",
     "iopub.status.busy": "2023-03-14T02:34:42.650600Z",
     "iopub.status.idle": "2023-03-14T02:34:43.752210Z",
     "shell.execute_reply": "2023-03-14T02:34:43.751564Z",
     "shell.execute_reply.started": "2023-03-14T02:34:42.650793Z"
    },
    "id": "LXw1gssjz9yj"
   },
   "outputs": [],
   "source": [
    "import pandas as pd\n",
    "from tqdm import tqdm\n",
    "\n",
    "import torch\n",
    "import torchvision\n",
    "import torch.nn as nn\n",
    "import torch.nn.functional as F\n",
    "import torch.optim as optim\n",
    "import torchvision.transforms as transforms\n",
    "\n",
    "\n",
    "# 코드 다시 돌리기 위한 seed 고정\n",
    "import random\n",
    "import numpy as np\n",
    "random.seed(0)\n",
    "np.random.seed(0)\n",
    "torch.manual_seed(0)\n",
    "torch.cuda.manual_seed(0)\n",
    "torch.cuda.manual_seed_all(0)\n",
    "\n",
    "device = torch.device('cuda') if torch.cuda.is_available() else torch.device('cpu')"
   ]
  },
  {
   "cell_type": "code",
   "execution_count": 4,
   "metadata": {
    "execution": {
     "iopub.execute_input": "2023-03-14T02:34:43.753868Z",
     "iopub.status.busy": "2023-03-14T02:34:43.753592Z",
     "iopub.status.idle": "2023-03-14T02:34:43.757034Z",
     "shell.execute_reply": "2023-03-14T02:34:43.756520Z",
     "shell.execute_reply.started": "2023-03-14T02:34:43.753849Z"
    }
   },
   "outputs": [],
   "source": [
    "CFG = {'RUN_NAME':'CIFAR_100_128',\n",
    "       'DROPOUT':0.2,\n",
    "       'EPOCHS':100,\n",
    "       'LR': 0.001,\n",
    "       'N_CHANNELS': 128,\n",
    "      }"
   ]
  },
  {
   "cell_type": "code",
   "execution_count": 5,
   "metadata": {
    "execution": {
     "iopub.execute_input": "2023-03-14T02:34:43.757905Z",
     "iopub.status.busy": "2023-03-14T02:34:43.757730Z",
     "iopub.status.idle": "2023-03-14T02:34:45.850876Z",
     "shell.execute_reply": "2023-03-14T02:34:45.850066Z",
     "shell.execute_reply.started": "2023-03-14T02:34:43.757887Z"
    }
   },
   "outputs": [
    {
     "name": "stderr",
     "output_type": "stream",
     "text": [
      "\u001b[34m\u001b[1mwandb\u001b[0m: Currently logged in as: \u001b[33mmintyprotein\u001b[0m. Use \u001b[1m`wandb login --relogin`\u001b[0m to force relogin\n"
     ]
    },
    {
     "data": {
      "text/html": [
       "wandb version 0.13.11 is available!  To upgrade, please run:\n",
       " $ pip install wandb --upgrade"
      ],
      "text/plain": [
       "<IPython.core.display.HTML object>"
      ]
     },
     "metadata": {},
     "output_type": "display_data"
    },
    {
     "data": {
      "text/html": [
       "Tracking run with wandb version 0.13.4"
      ],
      "text/plain": [
       "<IPython.core.display.HTML object>"
      ]
     },
     "metadata": {},
     "output_type": "display_data"
    },
    {
     "data": {
      "text/html": [
       "Run data is saved locally in <code>/notebooks/wandb/run-20230314_023445-1a6nyhmp</code>"
      ],
      "text/plain": [
       "<IPython.core.display.HTML object>"
      ]
     },
     "metadata": {},
     "output_type": "display_data"
    },
    {
     "data": {
      "text/html": [
       "Syncing run <strong><a href=\"https://wandb.ai/mintyprotein/Tobigs/runs/1a6nyhmp\" target=\"_blank\">rhubarb-brulee-16</a></strong> to <a href=\"https://wandb.ai/mintyprotein/Tobigs\" target=\"_blank\">Weights & Biases</a> (<a href=\"https://wandb.me/run\" target=\"_blank\">docs</a>)<br/>"
      ],
      "text/plain": [
       "<IPython.core.display.HTML object>"
      ]
     },
     "metadata": {},
     "output_type": "display_data"
    }
   ],
   "source": [
    "#성능 개선을 위해 wandb 사용\n",
    "import wandb\n",
    "wandb.init(project=\"Tobigs\", entity=)\n",
    "wandb.config=CFG\n",
    "wandb.run.name = CFG['RUN_NAME']"
   ]
  },
  {
   "cell_type": "code",
   "execution_count": 8,
   "metadata": {
    "execution": {
     "iopub.execute_input": "2023-03-14T02:35:21.953181Z",
     "iopub.status.busy": "2023-03-14T02:35:21.952639Z",
     "iopub.status.idle": "2023-03-14T02:35:21.960872Z",
     "shell.execute_reply": "2023-03-14T02:35:21.960091Z",
     "shell.execute_reply.started": "2023-03-14T02:35:21.953157Z"
    },
    "id": "PMUR2HB6z_xc"
   },
   "outputs": [],
   "source": [
    "class MyModel(nn.Module):\n",
    "    def __init__(self, num_classes):\n",
    "        super(MyModel, self).__init__()\n",
    "        self.conv0 = nn.Sequential(nn.Conv2d(3, CFG['N_CHANNELS'], 3, 1, 'same'),\n",
    "                                   nn.BatchNorm2d(CFG['N_CHANNELS']),\n",
    "                                   nn.ReLU(),\n",
    "                                   nn.Dropout(CFG['DROPOUT']),\n",
    "                                  )\n",
    "        self.conv1 = nn.Sequential(nn.Conv2d(CFG['N_CHANNELS'], CFG['N_CHANNELS']*2, 3, 1, 'same'),\n",
    "                                   nn.BatchNorm2d(CFG['N_CHANNELS']*2),\n",
    "                                   nn.ReLU(),\n",
    "                                   nn.Dropout(CFG['DROPOUT']),\n",
    "                                   nn.MaxPool2d(2,2)\n",
    "                                  )\n",
    "        self.conv2 = nn.Sequential(nn.Conv2d(CFG['N_CHANNELS']*2, CFG['N_CHANNELS']*4, 3, 1, 'same'),\n",
    "                                   nn.BatchNorm2d(CFG['N_CHANNELS']*4),\n",
    "                                   nn.ReLU(),\n",
    "                                   nn.Dropout(CFG['DROPOUT']),\n",
    "                                   nn.MaxPool2d(2,2)\n",
    "                                  )\n",
    "        self.conv3 = nn.Sequential(nn.Conv2d(CFG['N_CHANNELS']*4, CFG['N_CHANNELS']*4, 3, 1, 'same'),\n",
    "                                   nn.BatchNorm2d(CFG['N_CHANNELS']*4),\n",
    "                                   nn.ReLU(),\n",
    "                                   nn.Dropout(CFG['DROPOUT']),\n",
    "                                  )\n",
    "        self.fc = nn.Sequential(nn.Flatten(),\n",
    "                                nn.Linear(64 * CFG['N_CHANNELS'] * 4, num_classes)\n",
    "                               )\n",
    "    def forward(self, x):\n",
    "        x = self.conv0(x)\n",
    "        x = self.conv1(x)\n",
    "        x = self.conv2(x)\n",
    "        x = self.conv3(x)\n",
    "        x = self.fc(x)\n",
    "        return x        "
   ]
  },
  {
   "cell_type": "code",
   "execution_count": 9,
   "metadata": {
    "colab": {
     "base_uri": "https://localhost:8080/"
    },
    "execution": {
     "iopub.execute_input": "2023-03-14T02:35:22.234755Z",
     "iopub.status.busy": "2023-03-14T02:35:22.234498Z",
     "iopub.status.idle": "2023-03-14T02:35:23.533086Z",
     "shell.execute_reply": "2023-03-14T02:35:23.532398Z",
     "shell.execute_reply.started": "2023-03-14T02:35:22.234734Z"
    },
    "id": "BNrmnoLz0Awv",
    "outputId": "f4987dfd-bb28-452b-c484-36cc8255074c"
   },
   "outputs": [],
   "source": [
    "model = MyModel(100).to(device)"
   ]
  },
  {
   "cell_type": "code",
   "execution_count": 10,
   "metadata": {
    "colab": {
     "base_uri": "https://localhost:8080/"
    },
    "execution": {
     "iopub.execute_input": "2023-03-14T02:35:23.534495Z",
     "iopub.status.busy": "2023-03-14T02:35:23.534255Z",
     "iopub.status.idle": "2023-03-14T02:35:25.477525Z",
     "shell.execute_reply": "2023-03-14T02:35:25.476904Z",
     "shell.execute_reply.started": "2023-03-14T02:35:23.534473Z"
    },
    "id": "wccqxwrh0B3U",
    "outputId": "81583de2-ba0b-4dda-bed7-665e233bac66"
   },
   "outputs": [
    {
     "name": "stdout",
     "output_type": "stream",
     "text": [
      "Files already downloaded and verified\n",
      "Files already downloaded and verified\n"
     ]
    }
   ],
   "source": [
    "#Torchvision의 RandomHorizontalFlip, RandomResizedCrop Augmentation 사용,\n",
    "train_transform = transforms.Compose([    \n",
    "    transforms.ToTensor(),\n",
    "    transforms.RandomHorizontalFlip(p=0.5),\n",
    "    transforms.RandomResizedCrop(size=(32,32), scale=(0.9,1.0)),\n",
    "    transforms.Normalize((0.5, 0.5, 0.5),(0.5, 0.5, 0.5))\n",
    "])        \n",
    "\n",
    "#Test성능 향상을 위해 TTA(Test-Time-Augmentation) 사용\n",
    "test_transform = transforms.Compose([\n",
    "    transforms.ToTensor(),\n",
    "    transforms.Normalize((0.5, 0.5, 0.5),(0.5, 0.5, 0.5))\n",
    "])    \n",
    "tta = transforms.RandomHorizontalFlip(p=1)\n",
    "\n",
    "train = torchvision.datasets.CIFAR100(root=\"./\", train=True, download=True, transform=train_transform)\n",
    "test = torchvision.datasets.CIFAR100(root=\"./\", train=False, download=True, transform=test_transform)\n",
    "\n",
    "train_loader = torch.utils.data.DataLoader(train, batch_size=256,\n",
    "                                           shuffle=True, num_workers=2)\n",
    "test_loader = torch.utils.data.DataLoader(test, batch_size=256,\n",
    "                                          shuffle=False, num_workers=2)\n",
    "\n",
    "optimizer = optim.AdamW(model.parameters(), lr=0.01)\n",
    "scheduler = optim.lr_scheduler.ReduceLROnPlateau(optimizer, 'max', patience=5, verbose=True)\n",
    "\n",
    "#라벨 스무딩 적용\n",
    "criterion = nn.CrossEntropyLoss(label_smoothing =0.2)\n"
   ]
  },
  {
   "cell_type": "code",
   "execution_count": 11,
   "metadata": {
    "execution": {
     "iopub.execute_input": "2023-03-14T02:35:25.478510Z",
     "iopub.status.busy": "2023-03-14T02:35:25.478313Z",
     "iopub.status.idle": "2023-03-14T02:35:26.120746Z",
     "shell.execute_reply": "2023-03-14T02:35:26.120152Z",
     "shell.execute_reply.started": "2023-03-14T02:35:25.478491Z"
    }
   },
   "outputs": [
    {
     "name": "stderr",
     "output_type": "stream",
     "text": [
      "Clipping input data to the valid range for imshow with RGB data ([0..1] for floats or [0..255] for integers).\n"
     ]
    },
    {
     "data": {
      "text/plain": [
       "<matplotlib.image.AxesImage at 0x7f1b28f02820>"
      ]
     },
     "execution_count": 11,
     "metadata": {},
     "output_type": "execute_result"
    },
    {
     "data": {
      "image/png": "[encoded data removed]",
      "text/plain": [
       "<Figure size 640x480 with 1 Axes>"
      ]
     },
     "metadata": {},
     "output_type": "display_data"
    }
   ],
   "source": [
    "import matplotlib.pyplot as plt\n",
    "plt.imshow(train[1][0].numpy().transpose(1,2,0))"
   ]
  },
  {
   "cell_type": "code",
   "execution_count": null,
   "metadata": {
    "colab": {
     "base_uri": "https://localhost:8080/",
     "height": 1000
    },
    "execution": {
     "iopub.execute_input": "2023-03-14T02:35:26.126967Z",
     "iopub.status.busy": "2023-03-14T02:35:26.126806Z"
    },
    "id": "ajWcg7oo0DCD",
    "outputId": "c63fe0c2-3026-4227-a48f-2a98f7508576"
   },
   "outputs": [
    {
     "name": "stderr",
     "output_type": "stream",
     "text": [
      "100%|██████████| 196/196 [00:22<00:00,  8.81it/s]\n"
     ]
    },
    {
     "name": "stdout",
     "output_type": "stream",
     "text": [
      "[EPOCH:1/100] [train_loss:14.447573841834554] [Val_loss:4.5961641550064085]  [val_acc:0.0122] \n"
     ]
    },
    {
     "name": "stderr",
     "output_type": "stream",
     "text": [
      "100%|██████████| 196/196 [00:19<00:00, 10.13it/s]\n",
      "100%|██████████| 196/196 [00:19<00:00, 10.01it/s]\n"
     ]
    },
    {
     "name": "stdout",
     "output_type": "stream",
     "text": [
      "[EPOCH:3/100] [train_loss:4.235062088285174] [Val_loss:4.071077334880829]  [val_acc:0.1464] \n"
     ]
    },
    {
     "name": "stderr",
     "output_type": "stream",
     "text": [
      "100%|██████████| 196/196 [00:19<00:00,  9.99it/s]\n",
      "100%|██████████| 196/196 [00:19<00:00,  9.96it/s]\n"
     ]
    },
    {
     "name": "stdout",
     "output_type": "stream",
     "text": [
      "[EPOCH:5/100] [train_loss:3.9074087215929616] [Val_loss:3.8775642216205597]  [val_acc:0.2142] \n"
     ]
    },
    {
     "name": "stderr",
     "output_type": "stream",
     "text": [
      "100%|██████████| 196/196 [00:19<00:00,  9.94it/s]\n",
      "100%|██████████| 196/196 [00:19<00:00,  9.92it/s]\n"
     ]
    },
    {
     "name": "stdout",
     "output_type": "stream",
     "text": [
      "[EPOCH:7/100] [train_loss:3.727227973694704] [Val_loss:3.737323409318924]  [val_acc:0.2534] \n"
     ]
    },
    {
     "name": "stderr",
     "output_type": "stream",
     "text": [
      "100%|██████████| 196/196 [00:19<00:00,  9.89it/s]\n",
      "100%|██████████| 196/196 [00:19<00:00,  9.90it/s]\n"
     ]
    },
    {
     "name": "stdout",
     "output_type": "stream",
     "text": [
      "[EPOCH:9/100] [train_loss:3.576732418975052] [Val_loss:3.537054938077927]  [val_acc:0.3096] \n"
     ]
    },
    {
     "name": "stderr",
     "output_type": "stream",
     "text": [
      "100%|██████████| 196/196 [00:19<00:00,  9.90it/s]\n",
      "100%|██████████| 196/196 [00:19<00:00,  9.91it/s]\n"
     ]
    }
   ],
   "source": [
    "for epoch in range(100):\n",
    "    model.train()\n",
    "    running_loss = 0.0\n",
    "    running_val_loss = 0.0\n",
    "    best_acc = 0.0\n",
    "    best_model_wts = model.state_dict()\n",
    "    for img, label in tqdm(train_loader):\n",
    "        img = img.to(device)\n",
    "        label = label.to(device)\n",
    "        optimizer.zero_grad()\n",
    "        output = model(img)\n",
    "        loss = criterion(output, label)\n",
    "        running_loss += loss.item()\n",
    "        loss.backward()\n",
    "        optimizer.step()\n",
    "    correct, all_data = 0,0\n",
    "    \n",
    "    model.eval()\n",
    "    for img, label in test_loader:\n",
    "        with torch.no_grad():\n",
    "            tta_img = tta(img).to(device)\n",
    "            img = img.to(device)\n",
    "            label = label.to(device)\n",
    "            output = model(img)\n",
    "            tta_output = model(tta_img)\n",
    "            #Original image와 flipped image를 독립적으로 predict 후, 평균값으로 각 클래스의 확률 결정\n",
    "            output = (output + tta_output) / 2\n",
    "            \n",
    "            loss = criterion(output, label)\n",
    "            running_val_loss += loss.item()\n",
    "            \n",
    "            correct += torch.sum(torch.argmax(output, dim=1) == label).item()\n",
    "            all_data += len(label)\n",
    "    if epoch % 2 == 0:        \n",
    "        print(f\"[EPOCH:{epoch+1}/{CFG['EPOCHS']}] [train_loss:{running_loss / len(train_loader)}] [Val_loss:{(running_val_loss / len(test_loader))}]  [val_acc:{correct / all_data}] \")\n",
    "    #wandb 데이터 전송\n",
    "    wandb.log({'Train_loss':running_loss / len(train_loader),\n",
    "               'Val_loss': (running_val_loss / all_data),\n",
    "               'Val_acc': (correct / all_data),\n",
    "              })\n",
    "    if correct / all_data > best_acc:\n",
    "      best_acc = correct / all_data\n",
    "      best_model_wts = model.state_dict()\n",
    "    \n",
    "    scheduler.step(correct / all_data)"
   ]
  },
  {
   "cell_type": "code",
   "execution_count": 14,
   "metadata": {
    "execution": {
     "iopub.execute_input": "2023-03-14T04:12:55.075576Z",
     "iopub.status.busy": "2023-03-14T04:12:55.074602Z",
     "iopub.status.idle": "2023-03-14T04:12:55.080980Z",
     "shell.execute_reply": "2023-03-14T04:12:55.080398Z",
     "shell.execute_reply.started": "2023-03-14T04:12:55.075523Z"
    }
   },
   "outputs": [
    {
     "name": "stdout",
     "output_type": "stream",
     "text": [
      "0.6087\n"
     ]
    }
   ],
   "source": [
    "print(best_acc)"
   ]
  },
  {
   "cell_type": "code",
   "execution_count": 15,
   "metadata": {
    "execution": {
     "iopub.execute_input": "2023-03-14T04:24:08.981697Z",
     "iopub.status.busy": "2023-03-14T04:24:08.980879Z",
     "iopub.status.idle": "2023-03-14T04:24:08.988110Z",
     "shell.execute_reply": "2023-03-14T04:24:08.987417Z",
     "shell.execute_reply.started": "2023-03-14T04:24:08.981670Z"
    }
   },
   "outputs": [
    {
     "data": {
      "image/png": "[encoded data removed]",
      "text/plain": [
       "<IPython.core.display.Image object>"
      ]
     },
     "execution_count": 15,
     "metadata": {},
     "output_type": "execute_result"
    }
   ],
   "source": [
    "from IPython.display import Image\n",
    "Image('./Val_acc.png')"
   ]
  }
 ],
 "metadata": {
  "accelerator": "GPU",
  "colab": {
   "provenance": []
  },
  "gpuClass": "standard",
  "kernelspec": {
   "display_name": "Python 3 (ipykernel)",
   "language": "python",
   "name": "python3"
  },
  "language_info": {
   "codemirror_mode": {
    "name": "ipython",
    "version": 3
   },
   "file_extension": ".py",
   "mimetype": "text/x-python",
   "name": "python",
   "nbconvert_exporter": "python",
   "pygments_lexer": "ipython3",
   "version": "3.9.16"
  },
  "vscode": {
   "interpreter": {
    "hash": "cad004fe989bd74e5c5aec7ffae436e77866a70d082a239967f7d52eef71aa88"
   }
  }
 },
 "nbformat": 4,
 "nbformat_minor": 4
}
