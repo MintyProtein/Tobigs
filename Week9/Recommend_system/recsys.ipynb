{
 "cells": [
  {
   "cell_type": "code",
   "execution_count": 6,
   "id": "483ac4ff-a69e-4797-80fe-dc3a3ba262be",
   "metadata": {
    "execution": {
     "iopub.execute_input": "2023-03-21T12:53:47.945323Z",
     "iopub.status.busy": "2023-03-21T12:53:47.945048Z",
     "iopub.status.idle": "2023-03-21T12:53:50.629105Z",
     "shell.execute_reply": "2023-03-21T12:53:50.628257Z",
     "shell.execute_reply.started": "2023-03-21T12:53:47.945300Z"
    }
   },
   "outputs": [
    {
     "name": "stdout",
     "output_type": "stream",
     "text": [
      "Requirement already satisfied: surprise in /usr/local/lib/python3.9/dist-packages (0.1)\n",
      "Requirement already satisfied: scikit-surprise in /usr/local/lib/python3.9/dist-packages (from surprise) (1.1.3)\n",
      "Requirement already satisfied: scipy>=1.3.2 in /usr/local/lib/python3.9/dist-packages (from scikit-surprise->surprise) (1.9.2)\n",
      "Requirement already satisfied: joblib>=1.0.0 in /usr/local/lib/python3.9/dist-packages (from scikit-surprise->surprise) (1.2.0)\n",
      "Requirement already satisfied: numpy>=1.17.3 in /usr/local/lib/python3.9/dist-packages (from scikit-surprise->surprise) (1.23.4)\n",
      "\u001b[33mWARNING: Running pip as the 'root' user can result in broken permissions and conflicting behaviour with the system package manager. It is recommended to use a virtual environment instead: https://pip.pypa.io/warnings/venv\u001b[0m\u001b[33m\n",
      "\u001b[0m"
     ]
    }
   ],
   "source": [
    "!pip install surprise"
   ]
  },
  {
   "cell_type": "code",
   "execution_count": 7,
   "id": "5cb73de1-068d-4c57-9ceb-afcadec362ed",
   "metadata": {
    "execution": {
     "iopub.execute_input": "2023-03-21T12:53:50.630736Z",
     "iopub.status.busy": "2023-03-21T12:53:50.630499Z",
     "iopub.status.idle": "2023-03-21T12:53:50.635247Z",
     "shell.execute_reply": "2023-03-21T12:53:50.634516Z",
     "shell.execute_reply.started": "2023-03-21T12:53:50.630712Z"
    }
   },
   "outputs": [],
   "source": [
    "import numpy as np\n",
    "import pandas as pd\n",
    "\n",
    "import surprise\n",
    "\n",
    "import matplotlib.pyplot as plt\n",
    "import seaborn as sns"
   ]
  },
  {
   "cell_type": "code",
   "execution_count": 8,
   "id": "ff2eb07b-066c-4b2a-a700-b2efcbdc5b82",
   "metadata": {
    "execution": {
     "iopub.execute_input": "2023-03-21T12:53:50.636306Z",
     "iopub.status.busy": "2023-03-21T12:53:50.636124Z",
     "iopub.status.idle": "2023-03-21T12:53:50.688930Z",
     "shell.execute_reply": "2023-03-21T12:53:50.688079Z",
     "shell.execute_reply.started": "2023-03-21T12:53:50.636287Z"
    }
   },
   "outputs": [],
   "source": [
    "df_ratings = pd.read_csv('/notebooks/ml-latest-small/ratings.csv')\n",
    "df_movies = pd.read_csv('/notebooks/ml-latest-small/movies.csv')\n",
    "df_tags = pd.read_csv('/notebooks/ml-latest-small/tags.csv')\n",
    "df_links = pd.read_csv('/notebooks/ml-latest-small/links.csv')"
   ]
  },
  {
   "cell_type": "markdown",
   "id": "f36fbbed-5867-47d3-9a01-df1564f5a3d4",
   "metadata": {},
   "source": [
    "## EDA"
   ]
  },
  {
   "cell_type": "code",
   "execution_count": 35,
   "id": "7192365f-8882-4aa1-b0e7-a6dbade46c9c",
   "metadata": {
    "execution": {
     "iopub.execute_input": "2023-03-21T13:09:13.627689Z",
     "iopub.status.busy": "2023-03-21T13:09:13.627021Z",
     "iopub.status.idle": "2023-03-21T13:09:13.839207Z",
     "shell.execute_reply": "2023-03-21T13:09:13.838662Z",
     "shell.execute_reply.started": "2023-03-21T13:09:13.627666Z"
    }
   },
   "outputs": [
    {
     "data": {
      "text/plain": [
       "(array([520.,  54.,  15.,  12.,   5.,   0.,   1.,   1.,   0.,   2.]),\n",
       " array([  20. ,  287.8,  555.6,  823.4, 1091.2, 1359. , 1626.8, 1894.6,\n",
       "        2162.4, 2430.2, 2698. ]),\n",
       " <BarContainer object of 10 artists>)"
      ]
     },
     "execution_count": 35,
     "metadata": {},
     "output_type": "execute_result"
    },
    {
     "data": {
      "image/png": "[encoded data removed]",
      "text/plain": [
       "<Figure size 400x500 with 2 Axes>"
      ]
     },
     "metadata": {},
     "output_type": "display_data"
    }
   ],
   "source": [
    "fig, axes = plt.subplots(2)\n",
    "fig.tight_layout()\n",
    "fig.set_size_inches(4,5)\n",
    "\n",
    "axes[0].set_title('Ratings')\n",
    "axes[0].hist(df_ratings['rating'])\n",
    "\n",
    "axes[1].set_title('n ratings per user')\n",
    "axes[1].hist(df_ratings['userId'].value_counts().values)"
   ]
  },
  {
   "cell_type": "markdown",
   "id": "377bf329-9684-415a-bc3d-c399b471bb9d",
   "metadata": {},
   "source": [
    "## Models"
   ]
  },
  {
   "cell_type": "code",
   "execution_count": 10,
   "id": "0c0e5d2f-6106-4e09-95fd-75c8884bf7c2",
   "metadata": {
    "execution": {
     "iopub.execute_input": "2023-03-21T12:53:51.193412Z",
     "iopub.status.busy": "2023-03-21T12:53:51.193178Z",
     "iopub.status.idle": "2023-03-21T12:53:52.421559Z",
     "shell.execute_reply": "2023-03-21T12:53:52.420962Z",
     "shell.execute_reply.started": "2023-03-21T12:53:51.193391Z"
    }
   },
   "outputs": [
    {
     "name": "stdout",
     "output_type": "stream",
     "text": [
      "Computing the msd similarity matrix...\n",
      "Done computing similarity matrix.\n",
      "RMSE: 0.9578\n"
     ]
    },
    {
     "data": {
      "text/plain": [
       "0.9578061143849369"
      ]
     },
     "execution_count": 10,
     "metadata": {},
     "output_type": "execute_result"
    }
   ],
   "source": [
    "from surprise import Reader, Dataset\n",
    "from surprise.model_selection import train_test_split\n",
    "from surprise.prediction_algorithms.knns import *\n",
    "from surprise.prediction_algorithms.matrix_factorization import *\n",
    "from surprise.accuracy import rmse\n",
    "\n",
    "reader = Reader(rating_scale=(0.5,5.0))\n",
    "data = Dataset.load_from_df(df_ratings[['userId', 'movieId', 'rating']], reader=reader)\n",
    "train_dataset, test_dataset = train_test_split(data, test_size=0.2, random_state=42)\n",
    "\n",
    "knnBasic = KNNBasic()\n",
    "knnBasic.fit(train_dataset)\n",
    "knnBasic_pred = knnBasic.test(test_dataset)\n",
    "rmse(knnBasic_pred)"
   ]
  },
  {
   "cell_type": "code",
   "execution_count": 11,
   "id": "56e2cd20-fa1e-4a70-8878-dd0272f4ed2d",
   "metadata": {
    "execution": {
     "iopub.execute_input": "2023-03-21T12:53:52.422523Z",
     "iopub.status.busy": "2023-03-21T12:53:52.422321Z",
     "iopub.status.idle": "2023-03-21T12:53:53.468159Z",
     "shell.execute_reply": "2023-03-21T12:53:53.467572Z",
     "shell.execute_reply.started": "2023-03-21T12:53:52.422504Z"
    }
   },
   "outputs": [
    {
     "name": "stdout",
     "output_type": "stream",
     "text": [
      "Computing the msd similarity matrix...\n",
      "Done computing similarity matrix.\n",
      "RMSE: 0.9010\n"
     ]
    },
    {
     "data": {
      "text/plain": [
       "0.9010250426386929"
      ]
     },
     "execution_count": 11,
     "metadata": {},
     "output_type": "execute_result"
    }
   ],
   "source": [
    "knn_z = KNNWithZScore()\n",
    "knn_z.fit(train_dataset)\n",
    "knn_z_pred = knn_z.test(test_dataset)\n",
    "rmse(knn_z_pred)"
   ]
  },
  {
   "cell_type": "code",
   "execution_count": 14,
   "id": "0d467265-1c1e-43b4-b83d-60f76c4dffd8",
   "metadata": {
    "execution": {
     "iopub.execute_input": "2023-03-21T12:55:48.635678Z",
     "iopub.status.busy": "2023-03-21T12:55:48.635128Z",
     "iopub.status.idle": "2023-03-21T12:55:49.808678Z",
     "shell.execute_reply": "2023-03-21T12:55:49.807927Z",
     "shell.execute_reply.started": "2023-03-21T12:55:48.635652Z"
    }
   },
   "outputs": [
    {
     "name": "stdout",
     "output_type": "stream",
     "text": [
      "RMSE: 0.8808\n"
     ]
    },
    {
     "data": {
      "text/plain": [
       "0.8807994602906565"
      ]
     },
     "execution_count": 14,
     "metadata": {},
     "output_type": "execute_result"
    }
   ],
   "source": [
    "svd = SVD()\n",
    "svd.fit(train_dataset)\n",
    "svd_pred = svd.test(test_dataset)\n",
    "rmse(svd_pred)"
   ]
  },
  {
   "cell_type": "code",
   "execution_count": 13,
   "id": "57e83b60-606e-4a3d-b486-f8c8c2b22c2c",
   "metadata": {
    "execution": {
     "iopub.execute_input": "2023-03-21T12:53:54.717099Z",
     "iopub.status.busy": "2023-03-21T12:53:54.716902Z",
     "iopub.status.idle": "2023-03-21T12:54:53.985265Z",
     "shell.execute_reply": "2023-03-21T12:54:53.984405Z",
     "shell.execute_reply.started": "2023-03-21T12:53:54.717079Z"
    }
   },
   "outputs": [
    {
     "name": "stdout",
     "output_type": "stream",
     "text": [
      "RMSE: 0.8685\n"
     ]
    },
    {
     "data": {
      "text/plain": [
       "0.8685193709526604"
      ]
     },
     "execution_count": 13,
     "metadata": {},
     "output_type": "execute_result"
    }
   ],
   "source": [
    "svdpp = SVDpp()\n",
    "svdpp.fit(train_dataset)\n",
    "svdpp_pred = svdpp.test(test_dataset)\n",
    "rmse(svdpp_pred)"
   ]
  },
  {
   "cell_type": "markdown",
   "id": "e5693697-7184-49f6-8f71-f8d08f1e989a",
   "metadata": {},
   "source": [
    "## Recommendation"
   ]
  },
  {
   "cell_type": "code",
   "execution_count": 39,
   "id": "0e51f1c3-7d73-4b0e-b28b-aa38767ea809",
   "metadata": {
    "execution": {
     "iopub.execute_input": "2023-03-21T13:13:05.699933Z",
     "iopub.status.busy": "2023-03-21T13:13:05.699677Z",
     "iopub.status.idle": "2023-03-21T13:14:21.629783Z",
     "shell.execute_reply": "2023-03-21T13:14:21.629199Z",
     "shell.execute_reply.started": "2023-03-21T13:13:05.699912Z"
    }
   },
   "outputs": [
    {
     "data": {
      "text/plain": [
       "<surprise.prediction_algorithms.matrix_factorization.SVDpp at 0x7fbd388761c0>"
      ]
     },
     "execution_count": 39,
     "metadata": {},
     "output_type": "execute_result"
    }
   ],
   "source": [
    "model = SVDpp()\n",
    "model.fit(data.build_full_trainset())"
   ]
  },
  {
   "cell_type": "code",
   "execution_count": 33,
   "id": "545f19cd-2b89-43e1-935e-57342903fe4c",
   "metadata": {
    "execution": {
     "iopub.execute_input": "2023-03-21T13:07:53.916197Z",
     "iopub.status.busy": "2023-03-21T13:07:53.915429Z",
     "iopub.status.idle": "2023-03-21T13:07:53.921802Z",
     "shell.execute_reply": "2023-03-21T13:07:53.921180Z",
     "shell.execute_reply.started": "2023-03-21T13:07:53.916167Z"
    }
   },
   "outputs": [],
   "source": [
    "users = df_ratings['userId'].unique()\n",
    "items = df_ratings['movieId'].unique()"
   ]
  },
  {
   "cell_type": "code",
   "execution_count": 92,
   "id": "b4b67a00-009e-4778-b6a1-b78d04d4a1c9",
   "metadata": {
    "execution": {
     "iopub.execute_input": "2023-03-21T13:33:35.320143Z",
     "iopub.status.busy": "2023-03-21T13:33:35.319795Z",
     "iopub.status.idle": "2023-03-21T13:33:35.325125Z",
     "shell.execute_reply": "2023-03-21T13:33:35.324473Z",
     "shell.execute_reply.started": "2023-03-21T13:33:35.320115Z"
    }
   },
   "outputs": [],
   "source": [
    "def recommend_item(user_id, model, k):\n",
    "    seen = df_ratings[df_ratings['userId']==3]['movieId'].values\n",
    "    unseen = np.setdiff1d(items, seen)\n",
    "    pred = [model.predict(user_id, item_id)[3] for item_id in unseen]\n",
    "    \n",
    "    topk = np.argsort(pred)[::-1][:10]\n",
    "    topk_id = unseen[topk]\n",
    "    \n",
    "    print(f'Top{k} recommendation for user {user_id}\\n')\n",
    "    for i, movie_id in enumerate(topk_id):\n",
    "        movie_name = df_movies[df_movies['movieId']==movie_id]['title'].values\n",
    "        print(f'{i+1}: {movie_name}')"
   ]
  },
  {
   "cell_type": "code",
   "execution_count": 93,
   "id": "9fac5bcd-4f88-40da-b60e-212f3c35be06",
   "metadata": {
    "execution": {
     "iopub.execute_input": "2023-03-21T13:33:35.938069Z",
     "iopub.status.busy": "2023-03-21T13:33:35.937466Z",
     "iopub.status.idle": "2023-03-21T13:33:36.866939Z",
     "shell.execute_reply": "2023-03-21T13:33:36.866302Z",
     "shell.execute_reply.started": "2023-03-21T13:33:35.938041Z"
    }
   },
   "outputs": [
    {
     "name": "stdout",
     "output_type": "stream",
     "text": [
      "Top10 recommendation for user 230\n",
      "\n",
      "1: ['Legend of Drunken Master, The (Jui kuen II) (1994)']\n",
      "2: ['Doctor Who: The Time of the Doctor (2013)']\n",
      "3: ['Pirates of the Caribbean: The Curse of the Black Pearl (2003)']\n",
      "4: ['Matrix Revolutions, The (2003)']\n",
      "5: ['Tommy Boy (1995)']\n",
      "6: ['Go (1999)']\n",
      "7: ['Lord of the Rings: The Two Towers, The (2002)']\n",
      "8: ['Star Wars: Episode VI - Return of the Jedi (1983)']\n",
      "9: ['Star Trek (2009)']\n",
      "10: ['Day of the Doctor, The (2013)']\n"
     ]
    }
   ],
   "source": [
    "user_id = np.random.choice(users)\n",
    "recommend_item(user_id, model, 10)"
   ]
  }
 ],
 "metadata": {
  "kernelspec": {
   "display_name": "Python 3 (ipykernel)",
   "language": "python",
   "name": "python3"
  },
  "language_info": {
   "codemirror_mode": {
    "name": "ipython",
    "version": 3
   },
   "file_extension": ".py",
   "mimetype": "text/x-python",
   "name": "python",
   "nbconvert_exporter": "python",
   "pygments_lexer": "ipython3",
   "version": "3.9.16"
  }
 },
 "nbformat": 4,
 "nbformat_minor": 5
}
